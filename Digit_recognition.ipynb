{
 "cells": [
  {
   "cell_type": "code",
   "execution_count": 12,
   "metadata": {},
   "outputs": [],
   "source": [
    "import warnings\n",
    "import numpy as np\n",
    "import matplotlib.pyplot as plt\n",
    "import tensorflow as tf\n",
    "import tensorflow_datasets as tfds\n",
    "from tensorflow.keras.models import Sequential\n",
    "from tensorflow.keras.layers import Dense\n",
    "from tensorflow.keras.activations import linear, relu, sigmoid\n",
    "warnings.filterwarnings(\"ignore\", category=FutureWarning, module=\"numpy\")"
   ]
  },
  {
   "cell_type": "code",
   "execution_count": 13,
   "metadata": {},
   "outputs": [],
   "source": [
    "train_dataset, validation_dataset, test_dataset = tfds.load(\n",
    "    'mnist',\n",
    "    split=[\"train[0%:80%]\", \"train[80%:100%]\", \"test\"],\n",
    "    shuffle_files=True,\n",
    "    as_supervised=True\n",
    ")"
   ]
  },
  {
   "cell_type": "code",
   "execution_count": 14,
   "metadata": {},
   "outputs": [
    {
     "name": "stdout",
     "output_type": "stream",
     "text": [
      "Number of training samples: 48000\n",
      "Number of validation samples: 12000\n",
      "Number of test samples: 10000\n"
     ]
    }
   ],
   "source": [
    "print(f\"Number of training samples: {train_dataset.cardinality()}\")\n",
    "print(f\"Number of validation samples: {validation_dataset.cardinality()}\")\n",
    "print(f\"Number of test samples: {test_dataset.cardinality()}\")"
   ]
  },
  {
   "cell_type": "code",
   "execution_count": 15,
   "metadata": {},
   "outputs": [
    {
     "name": "stdout",
     "output_type": "stream",
     "text": [
      "Shape of a digit image: (28, 28, 1)\n",
      "Shape of a label: ()\n"
     ]
    }
   ],
   "source": [
    "for example in train_dataset:\n",
    "    print(\"Shape of a digit image:\", example[0].shape)\n",
    "    print(\"Shape of a label:\", example[1].shape)\n",
    "    break"
   ]
  },
  {
   "cell_type": "code",
   "execution_count": 16,
   "metadata": {},
   "outputs": [
    {
     "name": "stdout",
     "output_type": "stream",
     "text": [
      "0   0   0   0   0   0   0   0   0   0   0   0   0   0   0   0   0   0   0   0   0   0   0   0   0   0   0   0\n",
      "0   0   0   0   0   0   0   0   0   0   0   0   0   0   0   0   0   0   0   0   0   0   0   0   0   0   0   0\n",
      "0   0   0   0   0   0   0   0   0   0   0   0   0   0   0   0   0   0   0   0   0   0   0   0   0   0   0   0\n",
      "0   0   0   0   0   0   0   0   0   0   0   0   0   0   0   0   0   0   0   0   0   0   0   0   0   0   0   0\n",
      "0   0   0   0   0   0   0   0   0   0   0   0   0   0   0   0   0   0   0   0   0   0   0   0   0   0   0   0\n",
      "0   0   0   0   0   0   0   0   0   0   0   0   0   0   0   0   0  84 254 101   0   0   0   0   0   0   0   0\n",
      "0   0   0   0   0   0   0   0   0   0   0   0   0   0   0   0   0 174 253 119   0   0   0   0   0   0   0   0\n",
      "0   0   0   0   0   0   0   0   0   0   0   0   0   0   0   0  31 247 202  29   0   0   0   0   0   0   0   0\n",
      "0   0   0   0   0   0   0   0   0   1   1   0   0   0   0   0 141 253 168   0   0   0   0   0   0   0   0   0\n",
      "0   0   0   0   0   0   0   0   0  66 208  56   0   0   0   0 186 253 120   0   0   0   0   0   0   0   0   0\n",
      "0   0   0   0   0   0   0   0   0  57 253 119   0   0   0  28 249 240  25   0   0   0   0   0   0   0   0   0\n",
      "0   0   0   0   0   0   0   0   0  34 253 119   0   0   0 109 254 197   0   0   0   0   0   0   0   0   0   0\n",
      "0   0   0   0   0   0   0   0   0  53 253 119   0   0   0 135 254 133   0   0   0   0   0   0   0   0   0   0\n",
      "0   0   0   0   0   0   0   0   0 133 254 119   0   0  27 240 255  35   0   0   0   0   0   0   0   0   0   0\n",
      "0   0   0   0   0   0   0   0   7 235 253 208 151 169 215 253 206   2   0   0   0   0   0   0   0   0   0   0\n",
      "0   0   0   0   0   0   0   0  97 253 253 253 254 253 253 253  86   0   0   0   0   0   0   0   0   0   0   0\n",
      "0   0   0   0   0   0   0   0 150 244 145 119 101  82 253 253  14   0   0   0   0   0   0   0   0   0   0   0\n",
      "0   0   0   0   0   0   0   0   0   0   0   0   0  84 254 172   0   0   0   0   0   0   0   0   0   0   0   0\n",
      "0   0   0   0   0   0   0   0   0   0   0   0   0 174 253 119   0   0   0   0   0   0   0   0   0   0   0   0\n",
      "0   0   0   0   0   0   0   0   0   0   0   0   0 237 252  56   0   0   0   0   0   0   0   0   0   0   0   0\n",
      "0   0   0   0   0   0   0   0   0   0   0   0  50 241 182   0   0   0   0   0   0   0   0   0   0   0   0   0\n",
      "0   0   0   0   0   0   0   0   0   0   0   0 187 254 249 105   0   0   0   0   0   0   0   0   0   0   0   0\n",
      "0   0   0   0   0   0   0   0   0   0   0   0 186 253 206  21   0   0   0   0   0   0   0   0   0   0   0   0\n",
      "0   0   0   0   0   0   0   0   0   0   0   0 227 242  32   0   0   0   0   0   0   0   0   0   0   0   0   0\n",
      "0   0   0   0   0   0   0   0   0   0   0   0 236 219   0   0   0   0   0   0   0   0   0   0   0   0   0   0\n",
      "0   0   0   0   0   0   0   0   0   0   0   0   0   0   0   0   0   0   0   0   0   0   0   0   0   0   0   0\n",
      "0   0   0   0   0   0   0   0   0   0   0   0   0   0   0   0   0   0   0   0   0   0   0   0   0   0   0   0\n",
      "0   0   0   0   0   0   0   0   0   0   0   0   0   0   0   0   0   0   0   0   0   0   0   0   0   0   0   0\n"
     ]
    }
   ],
   "source": [
    "for example in train_dataset:\n",
    "    for i in range(len(example[0])):\n",
    "        l = tfds.as_numpy(tf.reshape(example[0][i], [-1]))\n",
    "        for k in range(len(l)):\n",
    "            if (k == 27):\n",
    "                print(l[k], end='')\n",
    "            elif (len(str(l[k+1])) == 1):\n",
    "                print(l[k], end=' '*3)\n",
    "            elif (len(str(l[k+1])) == 2):\n",
    "                print(l[k], end=' '*2)\n",
    "            elif (len(str(l[k+1])) == 3):\n",
    "                print(l[k], end=' '*1)\n",
    "        print()\n",
    "    break"
   ]
  },
  {
   "cell_type": "code",
   "execution_count": null,
   "metadata": {},
   "outputs": [],
   "source": [
    "plt.figure(figsize=(10, 10))\n",
    "for i, (image, label) in enumerate(train_dataset.take(64)):\n",
    "    ax = plt.subplot(8, 8, i + 1)\n",
    "    plt.imshow(image, cmap='gray')\n",
    "    plt.title(int(label))\n",
    "    plt.axis('off')\n",
    "plt.subplots_adjust(wspace=0.5, hspace=0.3)\n"
   ]
  },
  {
   "cell_type": "code",
   "execution_count": 17,
   "metadata": {},
   "outputs": [],
   "source": [
    "tf.random.set_seed(1234) # for consistent results\n",
    "model = Sequential(\n",
    "    [               \n",
    "        tf.keras.layers.Flatten(input_shape=(784,)),\n",
    "        Dense(units = 25, activation='relu', name = 'L1'),\n",
    "        Dense(units = 15, activation='relu', name = 'L2'),\n",
    "        Dense(units = 10, activation='linear', name = 'L3')\n",
    "    ], name = \"my_model\" \n",
    ")"
   ]
  },
  {
   "cell_type": "code",
   "execution_count": 18,
   "metadata": {},
   "outputs": [
    {
     "name": "stdout",
     "output_type": "stream",
     "text": [
      "Model: \"my_model\"\n",
      "_________________________________________________________________\n",
      " Layer (type)                Output Shape              Param #   \n",
      "=================================================================\n",
      " flatten_1 (Flatten)         (None, 784)               0         \n",
      "                                                                 \n",
      " L1 (Dense)                  (None, 25)                19625     \n",
      "                                                                 \n",
      " L2 (Dense)                  (None, 15)                390       \n",
      "                                                                 \n",
      " L3 (Dense)                  (None, 10)                160       \n",
      "                                                                 \n",
      "=================================================================\n",
      "Total params: 20,175\n",
      "Trainable params: 20,175\n",
      "Non-trainable params: 0\n",
      "_________________________________________________________________\n"
     ]
    }
   ],
   "source": [
    "model.summary()"
   ]
  },
  {
   "cell_type": "code",
   "execution_count": 19,
   "metadata": {},
   "outputs": [
    {
     "name": "stdout",
     "output_type": "stream",
     "text": [
      "W1 shape = (784, 25), b1 shape = (25,)\n",
      "W2 shape = (25, 15), b2 shape = (15,)\n",
      "W3 shape = (15, 10), b3 shape = (10,)\n"
     ]
    }
   ],
   "source": [
    "[layer0, layer1, layer2, layer3] = model.layers\n",
    "W1,b1 = layer1.get_weights()\n",
    "W2,b2 = layer2.get_weights()\n",
    "W3,b3 = layer3.get_weights()\n",
    "print(f\"W1 shape = {W1.shape}, b1 shape = {b1.shape}\")\n",
    "print(f\"W2 shape = {W2.shape}, b2 shape = {b2.shape}\")\n",
    "print(f\"W3 shape = {W3.shape}, b3 shape = {b3.shape}\")"
   ]
  },
  {
   "cell_type": "code",
   "execution_count": 20,
   "metadata": {},
   "outputs": [],
   "source": [
    "x = []\n",
    "y = []\n",
    "for example in train_dataset:\n",
    "    flat_image = tf.reshape(example[0], shape=(784,))\n",
    "    label = example[1]\n",
    "    x.append(flat_image)\n",
    "    y.append(label)"
   ]
  },
  {
   "cell_type": "code",
   "execution_count": 21,
   "metadata": {},
   "outputs": [
    {
     "ename": "IndexError",
     "evalue": "tuple index out of range",
     "output_type": "error",
     "traceback": [
      "\u001b[1;31m---------------------------------------------------------------------------\u001b[0m",
      "\u001b[1;31mIndexError\u001b[0m                                Traceback (most recent call last)",
      "Cell \u001b[1;32mIn[21], line 6\u001b[0m\n\u001b[0;32m      1\u001b[0m model\u001b[38;5;241m.\u001b[39mcompile(\n\u001b[0;32m      2\u001b[0m     loss\u001b[38;5;241m=\u001b[39mtf\u001b[38;5;241m.\u001b[39mkeras\u001b[38;5;241m.\u001b[39mlosses\u001b[38;5;241m.\u001b[39mSparseCategoricalCrossentropy(from_logits\u001b[38;5;241m=\u001b[39m\u001b[38;5;28;01mTrue\u001b[39;00m),\n\u001b[0;32m      3\u001b[0m     optimizer\u001b[38;5;241m=\u001b[39mtf\u001b[38;5;241m.\u001b[39mkeras\u001b[38;5;241m.\u001b[39moptimizers\u001b[38;5;241m.\u001b[39mAdam(learning_rate\u001b[38;5;241m=\u001b[39m\u001b[38;5;241m0.001\u001b[39m),\n\u001b[0;32m      4\u001b[0m )\n\u001b[1;32m----> 6\u001b[0m history \u001b[38;5;241m=\u001b[39m \u001b[43mmodel\u001b[49m\u001b[38;5;241;43m.\u001b[39;49m\u001b[43mfit\u001b[49m\u001b[43m(\u001b[49m\n\u001b[0;32m      7\u001b[0m \u001b[43m    \u001b[49m\u001b[43mx\u001b[49m\u001b[43m,\u001b[49m\n\u001b[0;32m      8\u001b[0m \u001b[43m    \u001b[49m\u001b[43my\u001b[49m\u001b[43m,\u001b[49m\n\u001b[0;32m      9\u001b[0m \u001b[43m    \u001b[49m\u001b[43mepochs\u001b[49m\u001b[38;5;241;43m=\u001b[39;49m\u001b[38;5;241;43m40\u001b[39;49m\u001b[43m,\u001b[49m\n\u001b[0;32m     10\u001b[0m \u001b[43m    \u001b[49m\u001b[43mvalidation_data\u001b[49m\u001b[38;5;241;43m=\u001b[39;49m\u001b[43mvalidation_dataset\u001b[49m\n\u001b[0;32m     11\u001b[0m \u001b[43m)\u001b[49m\n",
      "File \u001b[1;32mc:\\Users\\senuruk\\anaconda3\\envs\\senuenv\\lib\\site-packages\\keras\\utils\\traceback_utils.py:70\u001b[0m, in \u001b[0;36mfilter_traceback.<locals>.error_handler\u001b[1;34m(*args, **kwargs)\u001b[0m\n\u001b[0;32m     67\u001b[0m     filtered_tb \u001b[38;5;241m=\u001b[39m _process_traceback_frames(e\u001b[38;5;241m.\u001b[39m__traceback__)\n\u001b[0;32m     68\u001b[0m     \u001b[38;5;66;03m# To get the full stack trace, call:\u001b[39;00m\n\u001b[0;32m     69\u001b[0m     \u001b[38;5;66;03m# `tf.debugging.disable_traceback_filtering()`\u001b[39;00m\n\u001b[1;32m---> 70\u001b[0m     \u001b[38;5;28;01mraise\u001b[39;00m e\u001b[38;5;241m.\u001b[39mwith_traceback(filtered_tb) \u001b[38;5;28;01mfrom\u001b[39;00m \u001b[38;5;28;01mNone\u001b[39;00m\n\u001b[0;32m     71\u001b[0m \u001b[38;5;28;01mfinally\u001b[39;00m:\n\u001b[0;32m     72\u001b[0m     \u001b[38;5;28;01mdel\u001b[39;00m filtered_tb\n",
      "File \u001b[1;32mc:\\Users\\senuruk\\anaconda3\\envs\\senuenv\\lib\\site-packages\\tensorflow\\python\\framework\\tensor_shape.py:910\u001b[0m, in \u001b[0;36mTensorShape.__getitem__\u001b[1;34m(self, key)\u001b[0m\n\u001b[0;32m    908\u001b[0m \u001b[38;5;28;01melse\u001b[39;00m:\n\u001b[0;32m    909\u001b[0m   \u001b[38;5;28;01mif\u001b[39;00m \u001b[38;5;28mself\u001b[39m\u001b[38;5;241m.\u001b[39m_v2_behavior:\n\u001b[1;32m--> 910\u001b[0m     \u001b[38;5;28;01mreturn\u001b[39;00m \u001b[38;5;28;43mself\u001b[39;49m\u001b[38;5;241;43m.\u001b[39;49m\u001b[43m_dims\u001b[49m\u001b[43m[\u001b[49m\u001b[43mkey\u001b[49m\u001b[43m]\u001b[49m\n\u001b[0;32m    911\u001b[0m   \u001b[38;5;28;01melse\u001b[39;00m:\n\u001b[0;32m    912\u001b[0m     \u001b[38;5;28;01mreturn\u001b[39;00m \u001b[38;5;28mself\u001b[39m\u001b[38;5;241m.\u001b[39mdims[key]\n",
      "\u001b[1;31mIndexError\u001b[0m: tuple index out of range"
     ]
    }
   ],
   "source": [
    "model.compile(\n",
    "    loss=tf.keras.losses.SparseCategoricalCrossentropy(from_logits=True),\n",
    "    optimizer=tf.keras.optimizers.Adam(learning_rate=0.001),\n",
    ")\n",
    "\n",
    "history = model.fit(\n",
    "    x,\n",
    "    y,\n",
    "    epochs=40,\n",
    "    validation_data=validation_dataset\n",
    ")"
   ]
  }
 ],
 "metadata": {
  "kernelspec": {
   "display_name": "myenv",
   "language": "python",
   "name": "python3"
  },
  "language_info": {
   "codemirror_mode": {
    "name": "ipython",
    "version": 3
   },
   "file_extension": ".py",
   "mimetype": "text/x-python",
   "name": "python",
   "nbconvert_exporter": "python",
   "pygments_lexer": "ipython3",
   "version": "3.10.8"
  }
 },
 "nbformat": 4,
 "nbformat_minor": 2
}
